{
 "cells": [
  {
   "cell_type": "code",
   "execution_count": 11,
   "metadata": {},
   "outputs": [
    {
     "name": "stdout",
     "output_type": "stream",
     "text": [
      "Paper\n"
     ]
    }
   ],
   "source": [
    "import requests\n",
    "import tensorflow as tf\n",
    "\n",
    "# --------- Kolom fungsi image_preprocessing ------------\n",
    "def images_preprocessing(filename):\n",
    "    image = tf.io.decode_image(open(filename, 'rb').read(), channels=3)\n",
    "    image = tf.image.resize(image, [150, 150])\n",
    "    image = image/255.\n",
    "   \n",
    "    image_tensor = tf.expand_dims(image, 0)\n",
    "    image_tensor = image_tensor.numpy().tolist()\n",
    "   \n",
    "    return image_tensor\n",
    " \n",
    "filename = 'images/paper.jpg'\n",
    "image_tensor = images_preprocessing(filename=filename)\n",
    "\n",
    "# -------------------------------------------------------\n",
    "\n",
    "\n",
    "# Prepare the data that is going to be sent in the POST request\n",
    "# ------------ Kolom persiapan data--------------\n",
    "json_data = {\n",
    "    \"instances\": image_tensor\n",
    "}\n",
    "\n",
    "# -------------------------------------------------------\n",
    "\n",
    "\n",
    "# ------------ Kolom meminta request prediksi--------------\n",
    "# Define the endpoint with format: http://localhost:8501/v1/models/MODEL_NAME:predict\n",
    "endpoint = \"http://localhost:8501/v1/models/rps_model:predict\"\n",
    " \n",
    "response = requests.post(endpoint, json=json_data)\n",
    " \n",
    "prediction = tf.argmax(response.json()['predictions'][0]).numpy()\n",
    " \n",
    "map_labels = {0: \"Paper\", 1: \"Rock\", 2: \"Scissors\"}\n",
    "print(map_labels[prediction])\n",
    "\n",
    "# -------------------------------------------------------\n",
    "\n"
   ]
  }
 ],
 "metadata": {
  "interpreter": {
   "hash": "bec548f1eaa5f791e61300a57b6bdf324df859493cf8e5c89b07d9effee2d662"
  },
  "kernelspec": {
   "display_name": "Python 3.8.8 64-bit ('base': conda)",
   "name": "python3"
  },
  "language_info": {
   "codemirror_mode": {
    "name": "ipython",
    "version": 3
   },
   "file_extension": ".py",
   "mimetype": "text/x-python",
   "name": "python",
   "nbconvert_exporter": "python",
   "pygments_lexer": "ipython3",
   "version": "3.10.12"
  },
  "orig_nbformat": 4
 },
 "nbformat": 4,
 "nbformat_minor": 2
}
